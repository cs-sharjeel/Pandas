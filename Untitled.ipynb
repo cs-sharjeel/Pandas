{
 "cells": [
  {
   "cell_type": "code",
   "execution_count": 1,
   "metadata": {},
   "outputs": [],
   "source": [
    "import pandas as pd"
   ]
  },
  {
   "cell_type": "code",
   "execution_count": 9,
   "metadata": {},
   "outputs": [
    {
     "name": "stderr",
     "output_type": "stream",
     "text": [
      "C:\\Users\\Sharjeel Ahmed\\Anaconda3\\lib\\site-packages\\ipykernel_launcher.py:1: FutureWarning: read_table is deprecated, use read_csv instead, passing sep='\\t'.\n",
      "  \"\"\"Entry point for launching an IPython kernel.\n"
     ]
    }
   ],
   "source": [
    "orders = pd.read_table('http://bit.ly/chiporders')"
   ]
  },
  {
   "cell_type": "markdown",
   "metadata": {},
   "source": [
    "<h4>\n",
    "    \n",
    "    seperation \n",
    "    header removal \n",
    "    and col name assignment\n",
    "    </h4>"
   ]
  },
  {
   "cell_type": "code",
   "execution_count": 18,
   "metadata": {},
   "outputs": [
    {
     "name": "stderr",
     "output_type": "stream",
     "text": [
      "C:\\Users\\Sharjeel Ahmed\\Anaconda3\\lib\\site-packages\\ipykernel_launcher.py:2: FutureWarning: read_table is deprecated, use read_csv instead.\n",
      "  \n"
     ]
    }
   ],
   "source": [
    "user_col =['user_id', 'age', 'gender', 'occupation', 'zip_code']\n",
    "user = pd.read_table('http://bit.ly/movieusers', sep = '|', header=None, names=user_col)"
   ]
  },
  {
   "cell_type": "code",
   "execution_count": 19,
   "metadata": {
    "scrolled": false
   },
   "outputs": [
    {
     "data": {
      "text/html": [
       "<div>\n",
       "<style scoped>\n",
       "    .dataframe tbody tr th:only-of-type {\n",
       "        vertical-align: middle;\n",
       "    }\n",
       "\n",
       "    .dataframe tbody tr th {\n",
       "        vertical-align: top;\n",
       "    }\n",
       "\n",
       "    .dataframe thead th {\n",
       "        text-align: right;\n",
       "    }\n",
       "</style>\n",
       "<table border=\"1\" class=\"dataframe\">\n",
       "  <thead>\n",
       "    <tr style=\"text-align: right;\">\n",
       "      <th></th>\n",
       "      <th>user_id</th>\n",
       "      <th>age</th>\n",
       "      <th>gender</th>\n",
       "      <th>occupation</th>\n",
       "      <th>zip_code</th>\n",
       "    </tr>\n",
       "  </thead>\n",
       "  <tbody>\n",
       "    <tr>\n",
       "      <th>0</th>\n",
       "      <td>1</td>\n",
       "      <td>24</td>\n",
       "      <td>M</td>\n",
       "      <td>technician</td>\n",
       "      <td>85711</td>\n",
       "    </tr>\n",
       "    <tr>\n",
       "      <th>1</th>\n",
       "      <td>2</td>\n",
       "      <td>53</td>\n",
       "      <td>F</td>\n",
       "      <td>other</td>\n",
       "      <td>94043</td>\n",
       "    </tr>\n",
       "    <tr>\n",
       "      <th>2</th>\n",
       "      <td>3</td>\n",
       "      <td>23</td>\n",
       "      <td>M</td>\n",
       "      <td>writer</td>\n",
       "      <td>32067</td>\n",
       "    </tr>\n",
       "    <tr>\n",
       "      <th>3</th>\n",
       "      <td>4</td>\n",
       "      <td>24</td>\n",
       "      <td>M</td>\n",
       "      <td>technician</td>\n",
       "      <td>43537</td>\n",
       "    </tr>\n",
       "    <tr>\n",
       "      <th>4</th>\n",
       "      <td>5</td>\n",
       "      <td>33</td>\n",
       "      <td>F</td>\n",
       "      <td>other</td>\n",
       "      <td>15213</td>\n",
       "    </tr>\n",
       "  </tbody>\n",
       "</table>\n",
       "</div>"
      ],
      "text/plain": [
       "   user_id  age gender  occupation zip_code\n",
       "0        1   24      M  technician    85711\n",
       "1        2   53      F       other    94043\n",
       "2        3   23      M      writer    32067\n",
       "3        4   24      M  technician    43537\n",
       "4        5   33      F       other    15213"
      ]
     },
     "execution_count": 19,
     "metadata": {},
     "output_type": "execute_result"
    }
   ],
   "source": [
    "user.head()"
   ]
  },
  {
   "cell_type": "code",
   "execution_count": 25,
   "metadata": {},
   "outputs": [],
   "source": [
    "ufo = pd.read_csv('http://bit.ly/uforeports')\n"
   ]
  },
  {
   "cell_type": "code",
   "execution_count": 26,
   "metadata": {},
   "outputs": [
    {
     "data": {
      "text/html": [
       "<div>\n",
       "<style scoped>\n",
       "    .dataframe tbody tr th:only-of-type {\n",
       "        vertical-align: middle;\n",
       "    }\n",
       "\n",
       "    .dataframe tbody tr th {\n",
       "        vertical-align: top;\n",
       "    }\n",
       "\n",
       "    .dataframe thead th {\n",
       "        text-align: right;\n",
       "    }\n",
       "</style>\n",
       "<table border=\"1\" class=\"dataframe\">\n",
       "  <thead>\n",
       "    <tr style=\"text-align: right;\">\n",
       "      <th></th>\n",
       "      <th>City</th>\n",
       "      <th>Colors Reported</th>\n",
       "      <th>Shape Reported</th>\n",
       "      <th>State</th>\n",
       "      <th>Time</th>\n",
       "    </tr>\n",
       "  </thead>\n",
       "  <tbody>\n",
       "    <tr>\n",
       "      <th>0</th>\n",
       "      <td>Ithaca</td>\n",
       "      <td>NaN</td>\n",
       "      <td>TRIANGLE</td>\n",
       "      <td>NY</td>\n",
       "      <td>6/1/1930 22:00</td>\n",
       "    </tr>\n",
       "    <tr>\n",
       "      <th>1</th>\n",
       "      <td>Willingboro</td>\n",
       "      <td>NaN</td>\n",
       "      <td>OTHER</td>\n",
       "      <td>NJ</td>\n",
       "      <td>6/30/1930 20:00</td>\n",
       "    </tr>\n",
       "    <tr>\n",
       "      <th>2</th>\n",
       "      <td>Holyoke</td>\n",
       "      <td>NaN</td>\n",
       "      <td>OVAL</td>\n",
       "      <td>CO</td>\n",
       "      <td>2/15/1931 14:00</td>\n",
       "    </tr>\n",
       "    <tr>\n",
       "      <th>3</th>\n",
       "      <td>Abilene</td>\n",
       "      <td>NaN</td>\n",
       "      <td>DISK</td>\n",
       "      <td>KS</td>\n",
       "      <td>6/1/1931 13:00</td>\n",
       "    </tr>\n",
       "    <tr>\n",
       "      <th>4</th>\n",
       "      <td>New York Worlds Fair</td>\n",
       "      <td>NaN</td>\n",
       "      <td>LIGHT</td>\n",
       "      <td>NY</td>\n",
       "      <td>4/18/1933 19:00</td>\n",
       "    </tr>\n",
       "  </tbody>\n",
       "</table>\n",
       "</div>"
      ],
      "text/plain": [
       "                   City Colors Reported Shape Reported State             Time\n",
       "0                Ithaca             NaN       TRIANGLE    NY   6/1/1930 22:00\n",
       "1           Willingboro             NaN          OTHER    NJ  6/30/1930 20:00\n",
       "2               Holyoke             NaN           OVAL    CO  2/15/1931 14:00\n",
       "3               Abilene             NaN           DISK    KS   6/1/1931 13:00\n",
       "4  New York Worlds Fair             NaN          LIGHT    NY  4/18/1933 19:00"
      ]
     },
     "execution_count": 26,
     "metadata": {},
     "output_type": "execute_result"
    }
   ],
   "source": [
    "ufo.head()"
   ]
  },
  {
   "cell_type": "code",
   "execution_count": 28,
   "metadata": {},
   "outputs": [
    {
     "data": {
      "text/plain": [
       "pandas.core.series.Series"
      ]
     },
     "execution_count": 28,
     "metadata": {},
     "output_type": "execute_result"
    }
   ],
   "source": [
    "type(ufo['City'])"
   ]
  },
  {
   "cell_type": "code",
   "execution_count": 30,
   "metadata": {},
   "outputs": [
    {
     "data": {
      "text/html": [
       "<div>\n",
       "<style scoped>\n",
       "    .dataframe tbody tr th:only-of-type {\n",
       "        vertical-align: middle;\n",
       "    }\n",
       "\n",
       "    .dataframe tbody tr th {\n",
       "        vertical-align: top;\n",
       "    }\n",
       "\n",
       "    .dataframe thead th {\n",
       "        text-align: right;\n",
       "    }\n",
       "</style>\n",
       "<table border=\"1\" class=\"dataframe\">\n",
       "  <thead>\n",
       "    <tr style=\"text-align: right;\">\n",
       "      <th></th>\n",
       "      <th>City</th>\n",
       "      <th>Colors Reported</th>\n",
       "      <th>Shape Reported</th>\n",
       "      <th>State</th>\n",
       "      <th>Time</th>\n",
       "    </tr>\n",
       "  </thead>\n",
       "  <tbody>\n",
       "    <tr>\n",
       "      <th>0</th>\n",
       "      <td>Ithaca</td>\n",
       "      <td>NaN</td>\n",
       "      <td>TRIANGLE</td>\n",
       "      <td>NY</td>\n",
       "      <td>6/1/1930 22:00</td>\n",
       "    </tr>\n",
       "    <tr>\n",
       "      <th>1</th>\n",
       "      <td>Willingboro</td>\n",
       "      <td>NaN</td>\n",
       "      <td>OTHER</td>\n",
       "      <td>NJ</td>\n",
       "      <td>6/30/1930 20:00</td>\n",
       "    </tr>\n",
       "    <tr>\n",
       "      <th>2</th>\n",
       "      <td>Holyoke</td>\n",
       "      <td>NaN</td>\n",
       "      <td>OVAL</td>\n",
       "      <td>CO</td>\n",
       "      <td>2/15/1931 14:00</td>\n",
       "    </tr>\n",
       "    <tr>\n",
       "      <th>3</th>\n",
       "      <td>Abilene</td>\n",
       "      <td>NaN</td>\n",
       "      <td>DISK</td>\n",
       "      <td>KS</td>\n",
       "      <td>6/1/1931 13:00</td>\n",
       "    </tr>\n",
       "    <tr>\n",
       "      <th>4</th>\n",
       "      <td>New York Worlds Fair</td>\n",
       "      <td>NaN</td>\n",
       "      <td>LIGHT</td>\n",
       "      <td>NY</td>\n",
       "      <td>4/18/1933 19:00</td>\n",
       "    </tr>\n",
       "  </tbody>\n",
       "</table>\n",
       "</div>"
      ],
      "text/plain": [
       "                   City Colors Reported Shape Reported State             Time\n",
       "0                Ithaca             NaN       TRIANGLE    NY   6/1/1930 22:00\n",
       "1           Willingboro             NaN          OTHER    NJ  6/30/1930 20:00\n",
       "2               Holyoke             NaN           OVAL    CO  2/15/1931 14:00\n",
       "3               Abilene             NaN           DISK    KS   6/1/1931 13:00\n",
       "4  New York Worlds Fair             NaN          LIGHT    NY  4/18/1933 19:00"
      ]
     },
     "execution_count": 30,
     "metadata": {},
     "output_type": "execute_result"
    }
   ],
   "source": [
    "ufo.head()"
   ]
  },
  {
   "cell_type": "code",
   "execution_count": 35,
   "metadata": {},
   "outputs": [],
   "source": [
    "ufo['Location'] = ufo.City + ', ' + ufo.State #crating new series "
   ]
  },
  {
   "cell_type": "code",
   "execution_count": 36,
   "metadata": {},
   "outputs": [
    {
     "data": {
      "text/html": [
       "<div>\n",
       "<style scoped>\n",
       "    .dataframe tbody tr th:only-of-type {\n",
       "        vertical-align: middle;\n",
       "    }\n",
       "\n",
       "    .dataframe tbody tr th {\n",
       "        vertical-align: top;\n",
       "    }\n",
       "\n",
       "    .dataframe thead th {\n",
       "        text-align: right;\n",
       "    }\n",
       "</style>\n",
       "<table border=\"1\" class=\"dataframe\">\n",
       "  <thead>\n",
       "    <tr style=\"text-align: right;\">\n",
       "      <th></th>\n",
       "      <th>City</th>\n",
       "      <th>Colors Reported</th>\n",
       "      <th>Shape Reported</th>\n",
       "      <th>State</th>\n",
       "      <th>Time</th>\n",
       "      <th>Location</th>\n",
       "    </tr>\n",
       "  </thead>\n",
       "  <tbody>\n",
       "    <tr>\n",
       "      <th>0</th>\n",
       "      <td>Ithaca</td>\n",
       "      <td>NaN</td>\n",
       "      <td>TRIANGLE</td>\n",
       "      <td>NY</td>\n",
       "      <td>6/1/1930 22:00</td>\n",
       "      <td>Ithaca, NY</td>\n",
       "    </tr>\n",
       "    <tr>\n",
       "      <th>1</th>\n",
       "      <td>Willingboro</td>\n",
       "      <td>NaN</td>\n",
       "      <td>OTHER</td>\n",
       "      <td>NJ</td>\n",
       "      <td>6/30/1930 20:00</td>\n",
       "      <td>Willingboro, NJ</td>\n",
       "    </tr>\n",
       "    <tr>\n",
       "      <th>2</th>\n",
       "      <td>Holyoke</td>\n",
       "      <td>NaN</td>\n",
       "      <td>OVAL</td>\n",
       "      <td>CO</td>\n",
       "      <td>2/15/1931 14:00</td>\n",
       "      <td>Holyoke, CO</td>\n",
       "    </tr>\n",
       "    <tr>\n",
       "      <th>3</th>\n",
       "      <td>Abilene</td>\n",
       "      <td>NaN</td>\n",
       "      <td>DISK</td>\n",
       "      <td>KS</td>\n",
       "      <td>6/1/1931 13:00</td>\n",
       "      <td>Abilene, KS</td>\n",
       "    </tr>\n",
       "    <tr>\n",
       "      <th>4</th>\n",
       "      <td>New York Worlds Fair</td>\n",
       "      <td>NaN</td>\n",
       "      <td>LIGHT</td>\n",
       "      <td>NY</td>\n",
       "      <td>4/18/1933 19:00</td>\n",
       "      <td>New York Worlds Fair, NY</td>\n",
       "    </tr>\n",
       "  </tbody>\n",
       "</table>\n",
       "</div>"
      ],
      "text/plain": [
       "                   City Colors Reported Shape Reported State             Time  \\\n",
       "0                Ithaca             NaN       TRIANGLE    NY   6/1/1930 22:00   \n",
       "1           Willingboro             NaN          OTHER    NJ  6/30/1930 20:00   \n",
       "2               Holyoke             NaN           OVAL    CO  2/15/1931 14:00   \n",
       "3               Abilene             NaN           DISK    KS   6/1/1931 13:00   \n",
       "4  New York Worlds Fair             NaN          LIGHT    NY  4/18/1933 19:00   \n",
       "\n",
       "                   Location  \n",
       "0                Ithaca, NY  \n",
       "1           Willingboro, NJ  \n",
       "2               Holyoke, CO  \n",
       "3               Abilene, KS  \n",
       "4  New York Worlds Fair, NY  "
      ]
     },
     "execution_count": 36,
     "metadata": {},
     "output_type": "execute_result"
    }
   ],
   "source": [
    "ufo.head()"
   ]
  },
  {
   "cell_type": "code",
   "execution_count": 43,
   "metadata": {},
   "outputs": [
    {
     "data": {
      "text/plain": [
       "0         TRIANGLE\n",
       "1            OTHER\n",
       "2             OVAL\n",
       "3             DISK\n",
       "4            LIGHT\n",
       "5             DISK\n",
       "6           CIRCLE\n",
       "7             DISK\n",
       "8            CIGAR\n",
       "9         CYLINDER\n",
       "10           LIGHT\n",
       "11        FIREBALL\n",
       "12          SPHERE\n",
       "13            OVAL\n",
       "14            DISK\n",
       "15          CIRCLE\n",
       "16             NaN\n",
       "17             NaN\n",
       "18       RECTANGLE\n",
       "19           OTHER\n",
       "20            DISK\n",
       "21             NaN\n",
       "22           LIGHT\n",
       "23       RECTANGLE\n",
       "24            DISK\n",
       "25           CIGAR\n",
       "26            DISK\n",
       "27            DISK\n",
       "28            DISK\n",
       "29            DISK\n",
       "           ...    \n",
       "18211      DIAMOND\n",
       "18212         DISK\n",
       "18213     FIREBALL\n",
       "18214    FORMATION\n",
       "18215        OTHER\n",
       "18216        LIGHT\n",
       "18217     TRIANGLE\n",
       "18218      DIAMOND\n",
       "18219      CHEVRON\n",
       "18220         DISK\n",
       "18221         DISK\n",
       "18222        OTHER\n",
       "18223          NaN\n",
       "18224         DISK\n",
       "18225    FORMATION\n",
       "18226    FORMATION\n",
       "18227     TRIANGLE\n",
       "18228        LIGHT\n",
       "18229         DISK\n",
       "18230         OVAL\n",
       "18231         OVAL\n",
       "18232          NaN\n",
       "18233      VARIOUS\n",
       "18234     TRIANGLE\n",
       "18235          NaN\n",
       "18236     TRIANGLE\n",
       "18237         DISK\n",
       "18238          NaN\n",
       "18239        LIGHT\n",
       "18240         OVAL\n",
       "Name: Shape Reported, Length: 18241, dtype: object"
      ]
     },
     "execution_count": 43,
     "metadata": {},
     "output_type": "execute_result"
    }
   ],
   "source": [
    "ufo['Shape Reported'] #to use space series"
   ]
  },
  {
   "cell_type": "code",
   "execution_count": 45,
   "metadata": {
    "scrolled": true
   },
   "outputs": [
    {
     "data": {
      "text/plain": [
       "<bound method NDFrame.head of                        City Colors Reported Shape Reported State  \\\n",
       "0                    Ithaca             NaN       TRIANGLE    NY   \n",
       "1               Willingboro             NaN          OTHER    NJ   \n",
       "2                   Holyoke             NaN           OVAL    CO   \n",
       "3                   Abilene             NaN           DISK    KS   \n",
       "4      New York Worlds Fair             NaN          LIGHT    NY   \n",
       "5               Valley City             NaN           DISK    ND   \n",
       "6               Crater Lake             NaN         CIRCLE    CA   \n",
       "7                      Alma             NaN           DISK    MI   \n",
       "8                   Eklutna             NaN          CIGAR    AK   \n",
       "9                   Hubbard             NaN       CYLINDER    OR   \n",
       "10                  Fontana             NaN          LIGHT    CA   \n",
       "11                 Waterloo             NaN       FIREBALL    AL   \n",
       "12                   Belton             RED         SPHERE    SC   \n",
       "13                   Keokuk             NaN           OVAL    IA   \n",
       "14                Ludington             NaN           DISK    MI   \n",
       "15              Forest Home             NaN         CIRCLE    CA   \n",
       "16              Los Angeles             NaN            NaN    CA   \n",
       "17                Hapeville             NaN            NaN    GA   \n",
       "18                   Oneida             NaN      RECTANGLE    TN   \n",
       "19               Bering Sea             RED          OTHER    AK   \n",
       "20                 Nebraska             NaN           DISK    NE   \n",
       "21                      NaN             NaN            NaN    LA   \n",
       "22                      NaN             NaN          LIGHT    LA   \n",
       "23                Owensboro             NaN      RECTANGLE    KY   \n",
       "24               Wilderness             NaN           DISK    WV   \n",
       "25                San Diego             NaN          CIGAR    CA   \n",
       "26               Wilderness             NaN           DISK    WV   \n",
       "27                   Clovis             NaN           DISK    NM   \n",
       "28               Los Alamos             NaN           DISK    NM   \n",
       "29             Ft. Duschene             NaN           DISK    UT   \n",
       "...                     ...             ...            ...   ...   \n",
       "18211               Holyoke             NaN        DIAMOND    MA   \n",
       "18212                Carson             NaN           DISK    CA   \n",
       "18213              Pasadena           GREEN       FIREBALL    CA   \n",
       "18214                Austin             NaN      FORMATION    TX   \n",
       "18215              El Campo             NaN          OTHER    TX   \n",
       "18216          Garden Grove          ORANGE          LIGHT    CA   \n",
       "18217         Berthoud Pass             NaN       TRIANGLE    CO   \n",
       "18218            Sisterdale             NaN        DIAMOND    TX   \n",
       "18219          Garden Grove             NaN        CHEVRON    CA   \n",
       "18220           Shasta Lake            BLUE           DISK    CA   \n",
       "18221              Franklin             NaN           DISK    NH   \n",
       "18222        Albrightsville             NaN          OTHER    PA   \n",
       "18223            Greenville             NaN            NaN    SC   \n",
       "18224               Eufaula             NaN           DISK    OK   \n",
       "18225           Simi Valley             NaN      FORMATION    CA   \n",
       "18226         San Francisco             NaN      FORMATION    CA   \n",
       "18227         San Francisco             NaN       TRIANGLE    CA   \n",
       "18228            Kingsville             NaN          LIGHT    TX   \n",
       "18229               Chicago             NaN           DISK    IL   \n",
       "18230           Pismo Beach             NaN           OVAL    CA   \n",
       "18231           Pismo Beach             NaN           OVAL    CA   \n",
       "18232                  Lodi             NaN            NaN    WI   \n",
       "18233             Anchorage             RED        VARIOUS    AK   \n",
       "18234              Capitola             NaN       TRIANGLE    CA   \n",
       "18235        Fountain Hills             NaN            NaN    AZ   \n",
       "18236            Grant Park             NaN       TRIANGLE    IL   \n",
       "18237           Spirit Lake             NaN           DISK    IA   \n",
       "18238           Eagle River             NaN            NaN    WI   \n",
       "18239           Eagle River             RED          LIGHT    WI   \n",
       "18240                  Ybor             NaN           OVAL    FL   \n",
       "\n",
       "                   Time                  Location  \n",
       "0        6/1/1930 22:00                Ithaca, NY  \n",
       "1       6/30/1930 20:00           Willingboro, NJ  \n",
       "2       2/15/1931 14:00               Holyoke, CO  \n",
       "3        6/1/1931 13:00               Abilene, KS  \n",
       "4       4/18/1933 19:00  New York Worlds Fair, NY  \n",
       "5       9/15/1934 15:30           Valley City, ND  \n",
       "6        6/15/1935 0:00           Crater Lake, CA  \n",
       "7        7/15/1936 0:00                  Alma, MI  \n",
       "8      10/15/1936 17:00               Eklutna, AK  \n",
       "9        6/15/1937 0:00               Hubbard, OR  \n",
       "10      8/15/1937 21:00               Fontana, CA  \n",
       "11       6/1/1939 20:00              Waterloo, AL  \n",
       "12      6/30/1939 20:00                Belton, SC  \n",
       "13        7/7/1939 2:00                Keokuk, IA  \n",
       "14       6/1/1941 13:00             Ludington, MI  \n",
       "15       7/2/1941 11:30           Forest Home, CA  \n",
       "16       2/25/1942 0:00           Los Angeles, CA  \n",
       "17       6/1/1942 22:30             Hapeville, GA  \n",
       "18       7/15/1942 1:00                Oneida, TN  \n",
       "19      4/30/1943 23:00            Bering Sea, AK  \n",
       "20       6/1/1943 15:00              Nebraska, NE  \n",
       "21       8/15/1943 0:00                       NaN  \n",
       "22       8/15/1943 0:00                       NaN  \n",
       "23     10/15/1943 11:00             Owensboro, KY  \n",
       "24       1/1/1944 10:00            Wilderness, WV  \n",
       "25       1/1/1944 12:00             San Diego, CA  \n",
       "26       1/1/1944 12:00            Wilderness, WV  \n",
       "27       4/2/1944 11:00                Clovis, NM  \n",
       "28       6/1/1944 12:00            Los Alamos, NM  \n",
       "29      6/30/1944 10:00          Ft. Duschene, UT  \n",
       "...                 ...                       ...  \n",
       "18211  12/28/2000 18:00               Holyoke, MA  \n",
       "18212  12/28/2000 18:20                Carson, CA  \n",
       "18213  12/28/2000 19:10              Pasadena, CA  \n",
       "18214   12/29/2000 0:00                Austin, TX  \n",
       "18215   12/29/2000 9:00              El Campo, TX  \n",
       "18216  12/29/2000 16:10          Garden Grove, CA  \n",
       "18217  12/29/2000 19:30         Berthoud Pass, CO  \n",
       "18218  12/29/2000 20:00            Sisterdale, TX  \n",
       "18219  12/29/2000 20:30          Garden Grove, CA  \n",
       "18220  12/29/2000 20:30           Shasta Lake, CA  \n",
       "18221  12/29/2000 20:50              Franklin, NH  \n",
       "18222  12/29/2000 21:00        Albrightsville, PA  \n",
       "18223  12/29/2000 22:00            Greenville, SC  \n",
       "18224  12/29/2000 23:30               Eufaula, OK  \n",
       "18225  12/30/2000 10:00           Simi Valley, CA  \n",
       "18226  12/30/2000 22:00         San Francisco, CA  \n",
       "18227  12/30/2000 22:00         San Francisco, CA  \n",
       "18228   12/31/2000 4:00            Kingsville, TX  \n",
       "18229  12/31/2000 11:45               Chicago, IL  \n",
       "18230  12/31/2000 20:00           Pismo Beach, CA  \n",
       "18231  12/31/2000 20:00           Pismo Beach, CA  \n",
       "18232  12/31/2000 20:30                  Lodi, WI  \n",
       "18233  12/31/2000 21:00             Anchorage, AK  \n",
       "18234  12/31/2000 22:00              Capitola, CA  \n",
       "18235  12/31/2000 23:00        Fountain Hills, AZ  \n",
       "18236  12/31/2000 23:00            Grant Park, IL  \n",
       "18237  12/31/2000 23:00           Spirit Lake, IA  \n",
       "18238  12/31/2000 23:45           Eagle River, WI  \n",
       "18239  12/31/2000 23:45           Eagle River, WI  \n",
       "18240  12/31/2000 23:59                  Ybor, FL  \n",
       "\n",
       "[18241 rows x 6 columns]>"
      ]
     },
     "execution_count": 45,
     "metadata": {},
     "output_type": "execute_result"
    }
   ],
   "source": [
    "ufo.head"
   ]
  },
  {
   "cell_type": "markdown",
   "metadata": {},
   "source": [
    "<h4>lecture 4 </h4>\n"
   ]
  },
  {
   "cell_type": "code",
   "execution_count": 53,
   "metadata": {},
   "outputs": [],
   "source": [
    "movies = pd.read_csv('http://bit.ly/imdbratings')"
   ]
  },
  {
   "cell_type": "code",
   "execution_count": 54,
   "metadata": {},
   "outputs": [
    {
     "data": {
      "text/html": [
       "<div>\n",
       "<style scoped>\n",
       "    .dataframe tbody tr th:only-of-type {\n",
       "        vertical-align: middle;\n",
       "    }\n",
       "\n",
       "    .dataframe tbody tr th {\n",
       "        vertical-align: top;\n",
       "    }\n",
       "\n",
       "    .dataframe thead th {\n",
       "        text-align: right;\n",
       "    }\n",
       "</style>\n",
       "<table border=\"1\" class=\"dataframe\">\n",
       "  <thead>\n",
       "    <tr style=\"text-align: right;\">\n",
       "      <th></th>\n",
       "      <th>star_rating</th>\n",
       "      <th>title</th>\n",
       "      <th>content_rating</th>\n",
       "      <th>genre</th>\n",
       "      <th>duration</th>\n",
       "      <th>actors_list</th>\n",
       "    </tr>\n",
       "  </thead>\n",
       "  <tbody>\n",
       "    <tr>\n",
       "      <th>0</th>\n",
       "      <td>9.3</td>\n",
       "      <td>The Shawshank Redemption</td>\n",
       "      <td>R</td>\n",
       "      <td>Crime</td>\n",
       "      <td>142</td>\n",
       "      <td>[u'Tim Robbins', u'Morgan Freeman', u'Bob Gunt...</td>\n",
       "    </tr>\n",
       "    <tr>\n",
       "      <th>1</th>\n",
       "      <td>9.2</td>\n",
       "      <td>The Godfather</td>\n",
       "      <td>R</td>\n",
       "      <td>Crime</td>\n",
       "      <td>175</td>\n",
       "      <td>[u'Marlon Brando', u'Al Pacino', u'James Caan']</td>\n",
       "    </tr>\n",
       "    <tr>\n",
       "      <th>2</th>\n",
       "      <td>9.1</td>\n",
       "      <td>The Godfather: Part II</td>\n",
       "      <td>R</td>\n",
       "      <td>Crime</td>\n",
       "      <td>200</td>\n",
       "      <td>[u'Al Pacino', u'Robert De Niro', u'Robert Duv...</td>\n",
       "    </tr>\n",
       "    <tr>\n",
       "      <th>3</th>\n",
       "      <td>9.0</td>\n",
       "      <td>The Dark Knight</td>\n",
       "      <td>PG-13</td>\n",
       "      <td>Action</td>\n",
       "      <td>152</td>\n",
       "      <td>[u'Christian Bale', u'Heath Ledger', u'Aaron E...</td>\n",
       "    </tr>\n",
       "    <tr>\n",
       "      <th>4</th>\n",
       "      <td>8.9</td>\n",
       "      <td>Pulp Fiction</td>\n",
       "      <td>R</td>\n",
       "      <td>Crime</td>\n",
       "      <td>154</td>\n",
       "      <td>[u'John Travolta', u'Uma Thurman', u'Samuel L....</td>\n",
       "    </tr>\n",
       "  </tbody>\n",
       "</table>\n",
       "</div>"
      ],
      "text/plain": [
       "   star_rating                     title content_rating   genre  duration  \\\n",
       "0          9.3  The Shawshank Redemption              R   Crime       142   \n",
       "1          9.2             The Godfather              R   Crime       175   \n",
       "2          9.1    The Godfather: Part II              R   Crime       200   \n",
       "3          9.0           The Dark Knight          PG-13  Action       152   \n",
       "4          8.9              Pulp Fiction              R   Crime       154   \n",
       "\n",
       "                                         actors_list  \n",
       "0  [u'Tim Robbins', u'Morgan Freeman', u'Bob Gunt...  \n",
       "1    [u'Marlon Brando', u'Al Pacino', u'James Caan']  \n",
       "2  [u'Al Pacino', u'Robert De Niro', u'Robert Duv...  \n",
       "3  [u'Christian Bale', u'Heath Ledger', u'Aaron E...  \n",
       "4  [u'John Travolta', u'Uma Thurman', u'Samuel L....  "
      ]
     },
     "execution_count": 54,
     "metadata": {},
     "output_type": "execute_result"
    }
   ],
   "source": [
    "movies.head()"
   ]
  },
  {
   "cell_type": "code",
   "execution_count": 58,
   "metadata": {},
   "outputs": [
    {
     "data": {
      "text/plain": [
       "(979, 6)"
      ]
     },
     "execution_count": 58,
     "metadata": {},
     "output_type": "execute_result"
    }
   ],
   "source": [
    "movies.shape #979 Rows 6col"
   ]
  },
  {
   "cell_type": "code",
   "execution_count": 57,
   "metadata": {},
   "outputs": [
    {
     "data": {
      "text/plain": [
       "star_rating       float64\n",
       "title              object\n",
       "content_rating     object\n",
       "genre              object\n",
       "duration            int64\n",
       "actors_list        object\n",
       "dtype: object"
      ]
     },
     "execution_count": 57,
     "metadata": {},
     "output_type": "execute_result"
    }
   ],
   "source": [
    "movies.dtypes"
   ]
  },
  {
   "cell_type": "code",
   "execution_count": null,
   "metadata": {},
   "outputs": [],
   "source": []
  }
 ],
 "metadata": {
  "kernelspec": {
   "display_name": "Python 3",
   "language": "python",
   "name": "python3"
  },
  "language_info": {
   "codemirror_mode": {
    "name": "ipython",
    "version": 3
   },
   "file_extension": ".py",
   "mimetype": "text/x-python",
   "name": "python",
   "nbconvert_exporter": "python",
   "pygments_lexer": "ipython3",
   "version": "3.7.3"
  }
 },
 "nbformat": 4,
 "nbformat_minor": 2
}
